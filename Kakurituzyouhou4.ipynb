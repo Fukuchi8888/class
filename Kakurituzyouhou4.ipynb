{
  "nbformat": 4,
  "nbformat_minor": 0,
  "metadata": {
    "colab": {
      "name": "Kakurituzyouhou4.ipynb",
      "provenance": [],
      "collapsed_sections": [],
      "authorship_tag": "ABX9TyODCTiY+f+4raqEVqjfoY32",
      "include_colab_link": true
    },
    "kernelspec": {
      "name": "python3",
      "display_name": "Python 3"
    },
    "language_info": {
      "name": "python"
    },
    "accelerator": "GPU"
  },
  "cells": [
    {
      "cell_type": "markdown",
      "metadata": {
        "id": "view-in-github",
        "colab_type": "text"
      },
      "source": [
        "<a href=\"https://colab.research.google.com/github/Fukuchi8888/class/blob/main/Kakurituzyouhou4.ipynb\" target=\"_parent\"><img src=\"https://colab.research.google.com/assets/colab-badge.svg\" alt=\"Open In Colab\"/></a>"
      ]
    },
    {
      "cell_type": "code",
      "execution_count": null,
      "metadata": {
        "colab": {
          "base_uri": "https://localhost:8080/"
        },
        "id": "JnzfSu5RN1F5",
        "outputId": "90d316cc-f8d5-42d6-df88-be499218423c"
      },
      "outputs": [
        {
          "output_type": "stream",
          "name": "stdout",
          "text": [
            "3.0017836559010846 2.999509688008476 -20\n",
            "2.997740346977363 2.995245797482027 -19\n",
            "3.0014873264388022 2.9988596719111573 -18\n",
            "2.9980055472577334 2.995181836265964 -17\n",
            "2.999288663883551 2.9962546640175804 -16\n",
            "2.9982604983684134 2.994837746608735 -15\n",
            "3.000167745926669 2.99611017521597 -14\n",
            "3.0029532789167948 2.9986871150820873 -13\n",
            "2.9981816595455775 2.99334717062859 -12\n",
            "2.9995205132240783 2.9941003231231966 -11\n",
            "3.001610606273057 2.99526401653411 -10\n",
            "2.998984627922138 2.9919213424618056 -9\n",
            "2.9984987536975667 2.9903607104851333 -8\n",
            "3.0004905261412183 2.990978308598385 -7\n",
            "3.001882698723256 2.991334402010511 -6\n",
            "2.9957592754136715 2.9836903961118724 -5\n",
            "2.9984829999357476 2.984410840945455 -4\n",
            "3.000822906391518 2.9858338498356676 -3\n",
            "2.998835909532856 2.9823523595516477 -2\n",
            "2.997917704551694 2.980835136359103 -1\n",
            "2.9978256370412586 2.9804470670111343 0\n",
            "3.0007165912997342 2.9833142091252918 1\n",
            "2.9978173220154565 2.981201312914071 2\n",
            "3.0033922536065414 2.988300459744837 3\n",
            "3.000191337812472 2.986756192920721 4\n",
            "2.9989682394104364 2.9864423040631904 5\n",
            "2.9982216763153575 2.9875721710238734 6\n",
            "3.0003940585764046 2.9908906760098968 7\n",
            "2.9979075079155098 2.989774294302079 8\n",
            "2.9997498001355933 2.9922490772684207 9\n",
            "2.9978652331174276 2.9915428581994696 10\n",
            "2.996821379281896 2.9912872610625683 11\n",
            "3.0016283497003373 2.9967489262413363 12\n",
            "3.0014480654627507 2.9969134531515103 13\n",
            "3.0037911337939884 2.999671290353046 14\n",
            "3.00315906824905 2.9996089855434316 15\n",
            "3.001574343024634 2.998461069435968 16\n",
            "2.999786261289108 2.996848949790294 17\n",
            "2.999842421010224 2.9973672070132475 18\n",
            "2.9995910933414036 2.997221802330347 19\n",
            "3.002888692586761 3.0008506212786683 20\n",
            "2.998928312819337 2.9968834902993824 21\n",
            "3.0013880573843728 2.9994587054568913 22\n",
            "3.0001366157603244 2.9983707263830097 23\n",
            "3.0019971266930185 3.0004618029896033 24\n",
            "2.99876089477304 2.9973004268911616 25\n",
            "2.999468224262486 2.9981244084328433 26\n",
            "2.9986954727406427 2.9975114404033203 27\n",
            "2.9974236649345873 2.996203499938118 28\n",
            "3.001390156690945 3.000202887116859 29\n"
          ]
        }
      ],
      "source": [
        "import random\n",
        "import numpy as np\n",
        "import matplotlib.pyplot as plt\n",
        "\n",
        "\n",
        "MU1=range(-20,31)\n",
        "mu2=3\n",
        "mu3=7\n",
        "ave_x=[]\n",
        "ave_y=[]\n",
        "ave_z=[]\n",
        "ave=[]\n",
        "ave_stein_x=[]\n",
        "ave_stein_y=[]\n",
        "ave_stein_z=[]\n",
        "ave_stein=[]\n",
        "\n",
        "\n",
        "n=1000000\n",
        "\n",
        "for i in MU1:\n",
        "  mu1=i\n",
        "  X=[]\n",
        "  Y=[]\n",
        "  Z=[]\n",
        "\n",
        "  X_stein=[]\n",
        "  Y_stein=[]\n",
        "  Z_stein=[]\n",
        "\n",
        "  for j in range(n):\n",
        "    x=random.gauss(mu1,1)\n",
        "    y=random.gauss(mu2,1)\n",
        "    z=random.gauss(mu3,1)\n",
        "\n",
        "    x_stein=(1-1/(x**2+y**2+z**2))*x\n",
        "    y_stein=(1-1/(x**2+y**2+z**2))*y\n",
        "    z_stein=(1-1/(x**2+y**2+z**2))*z\n",
        "\n",
        "    X.append((x-i)**2)\n",
        "    Y.append((y-mu2)**2)\n",
        "    Z.append((z-mu3)**2)\n",
        "\n",
        "    X_stein.append((x_stein-i)**2)\n",
        "    Y_stein.append((y_stein-mu2)**2)\n",
        "    Z_stein.append((z_stein-mu3)**2)\n",
        "\n",
        "  ave.append((sum(X)+sum(Y)+sum(Z))/n)\n",
        "\n",
        "  ave_stein_x.append(sum(X_stein)/n)\n",
        "  ave_stein_y.append(sum(Y_stein)/n)\n",
        "  ave_stein_z.append(sum(Z_stein)/n)\n",
        "  ave_stein.append((sum(X_stein)+sum(Y_stein)+sum(Z_stein))/n)\n",
        "\n",
        "for i in range(50):\n",
        "  print(ave[i],ave_stein[i],MU1[i])\n",
        "\n"
      ]
    },
    {
      "cell_type": "code",
      "source": [
        "plt.scatter(MU1,ave,c=\"r\",label=\"Unbaised\")\n",
        "plt.scatter(MU1,ave_stein,c=\"b\",label=\"James-Stein\")\n",
        "plt.ylim(2.97,3.02)\n",
        "plt.legend()\n",
        "\n",
        "plt.show"
      ],
      "metadata": {
        "colab": {
          "base_uri": "https://localhost:8080/",
          "height": 287
        },
        "id": "v67-eGIU2MRn",
        "outputId": "ba42e256-5685-43bb-fa10-5cedfd6d4da0"
      },
      "execution_count": null,
      "outputs": [
        {
          "output_type": "execute_result",
          "data": {
            "text/plain": [
              "<function matplotlib.pyplot.show>"
            ]
          },
          "metadata": {},
          "execution_count": 25
        },
        {
          "output_type": "display_data",
          "data": {
            "text/plain": [
              "<Figure size 432x288 with 1 Axes>"
            ],
            "image/png": "[encoded data removed]"
          },
          "metadata": {
            "needs_background": "light"
          }
        }
      ]
    },
    {
      "cell_type": "code",
      "source": [
        "plt.scatter(MU1,ave_stein_x,label=\"θ1\")\n",
        "plt.scatter(MU1,ave_stein_y,label=\"θ2\")\n",
        "plt.scatter(MU1,ave_stein_z,label=\"θ3\")\n",
        "plt.legend()\n",
        "\n",
        "plt.show"
      ],
      "metadata": {
        "colab": {
          "base_uri": "https://localhost:8080/",
          "height": 283
        },
        "id": "6ERo5rAp6BpI",
        "outputId": "6924c0e0-1ffa-4ced-fdd0-ef54653f8457"
      },
      "execution_count": null,
      "outputs": [
        {
          "output_type": "execute_result",
          "data": {
            "text/plain": [
              "<function matplotlib.pyplot.show>"
            ]
          },
          "metadata": {},
          "execution_count": 26
        },
        {
          "output_type": "display_data",
          "data": {
            "text/plain": [
              "<Figure size 432x288 with 1 Axes>"
            ],
            "image/png": "[encoded data removed]"
          },
          "metadata": {
            "needs_background": "light"
          }
        }
      ]
    },
    {
      "cell_type": "code",
      "source": [
        "ｓ"
      ],
      "metadata": {
        "id": "_eyEZjhgvGdq"
      },
      "execution_count": null,
      "outputs": []
    }
  ]
}